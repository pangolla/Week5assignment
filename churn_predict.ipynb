{
  "nbformat": 4,
  "nbformat_minor": 0,
  "metadata": {
    "colab": {
      "provenance": []
    },
    "kernelspec": {
      "name": "python3",
      "display_name": "Python 3"
    },
    "language_info": {
      "name": "python"
    }
  },
  "cells": [
    {
      "cell_type": "code",
      "source": [
        "from google.colab import drive\n",
        "drive.mount('/content/drive')"
      ],
      "metadata": {
        "colab": {
          "base_uri": "https://localhost:8080/"
        },
        "id": "r3fk8-SUzU7G",
        "outputId": "345f7456-7631-44d9-8d5d-bfe99d6e6333"
      },
      "execution_count": null,
      "outputs": [
        {
          "output_type": "stream",
          "name": "stdout",
          "text": [
            "Mounted at /content/drive\n"
          ]
        }
      ]
    },
    {
      "cell_type": "code",
      "execution_count": 18,
      "metadata": {
        "colab": {
          "base_uri": "https://localhost:8080/"
        },
        "id": "iHO7s12klpPx",
        "outputId": "a4b3b0f0-ac9a-4655-d5b0-0817b00e5b37"
      },
      "outputs": [
        {
          "output_type": "stream",
          "name": "stdout",
          "text": [
            "Transformation Pipeline and Model Successfully Loaded\n",
            "predictions:\n",
            "            Churn_prediction\n",
            "customerID                  \n",
            "9305-CKSKC                 1\n",
            "1452-KNGVK                 0\n",
            "6723-OKKJM                 0\n",
            "7832-POPKP                 1\n",
            "6348-TACGU                 0\n",
            "\n",
            "True Values: [1, 0, 0, 1, 0]\n"
          ]
        }
      ],
      "source": [
        "import pandas as pd\n",
        "from pycaret.classification import predict_model, load_model\n",
        "\n",
        "model = load_model('/content/drive/MyDrive/Colab Notebooks/best_gradient_boost_classifier1')\n",
        "\n",
        "def load_data(filepath):\n",
        "    \"\"\"\n",
        "    Loads churn data into a DataFrame from a string filepath.\n",
        "    \"\"\"\n",
        "    df = pd.read_csv('/content/new_churn_data.csv', index_col='customerID')\n",
        "    return df\n",
        "\n",
        "\n",
        "def make_predictions(df, threshold=0.7):\n",
        "    \"\"\"\n",
        "    Uses the pycaret best model to make predictions on data in the df dataframe.\n",
        "    Rounds up to 1 if greater than or equal to the threshold.\n",
        "    \"\"\"\n",
        "    predictions = predict_model(model, data=df)\n",
        "    predictions['Churn_prediction'] = (predictions['prediction_score'] >= threshold)\n",
        "    predictions['Churn_prediction'].replace({True: 0, False: 1}, inplace=True)\n",
        "    drop_cols = predictions.columns.tolist()\n",
        "    drop_cols.remove('Churn_prediction')\n",
        "    return predictions.drop(drop_cols, axis=1)\n",
        "\n",
        "\n",
        "if __name__ == \"__main__\":\n",
        "    df = load_data('/content/new_churn_data.csv')\n",
        "    predictions = make_predictions(df)\n",
        "    print('predictions:')\n",
        "    print(predictions)\n",
        "    true_values = [1, 0, 0, 1, 0]\n",
        "    print(\"\\nTrue Values:\", true_values)"
      ]
    },
    {
      "cell_type": "code",
      "source": [],
      "metadata": {
        "id": "-WLiRdJ8zTr_"
      },
      "execution_count": null,
      "outputs": []
    }
  ]
}